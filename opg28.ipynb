{
 "cells": [
  {
   "cell_type": "code",
   "execution_count": null,
   "metadata": {},
   "outputs": [],
   "source": [
    "from sympy import *\n",
    "init_printing()"
   ]
  },
  {
   "cell_type": "code",
   "execution_count": 44,
   "metadata": {},
   "outputs": [],
   "source": [
    "# Symboler \n",
    "rho, phi, xi, x, y , t= symbols('rho phi xi x y t')\n",
    "\n",
    "# Funktion \n",
    "def f(x, y):\n",
    "    # Rectfunktion(|sqrt(x**2 + y**2)/2|))\n",
    "    return Piecewise((1, Abs(sqrt(x**2 + y**2)/2) <= 0.5), (0, True)) \n",
    "\n",
    "# Parameter fremstilling\n",
    "def l(rho, phi, t):\n",
    "    return rho*cos(phi) - t*sin(phi), rho*sin(phi) - t*cos(phi)\n",
    "\n",
    "# Radon transformation\n",
    "def r(rho, phi):\n",
    "    x, y = l(rho, phi, t)\n",
    "    return integrate(f(x, y), (t, -oo, oo))\n",
    "\n",
    "# Trin 1\n",
    "# Fouriertransformation (definition 5)\n",
    "def Fourier_r(rho, phi, xi):\n",
    "    return (1/sqrt(2*pi)) * integrate(r(rho, phi) * exp(-I*xi*rho), (rho, -oo, oo))\n",
    "\n",
    "# Trin 2\n",
    "# Filter Funktion (definition 6)\n",
    "def filtered_r(rho, phi, xi):\n",
    "    return Fourier_r(rho, phi, xi) * Abs(xi) # filter funktion\n",
    "\n",
    "# Trin 3\n",
    "# Inverse Fouriertransformation efter filter funktion (definition 5)\n",
    "def h(rho, phi, xi):\n",
    "    return (1/sqrt(2*pi)) * integrate(filtered_r(rho, phi, xi) * exp(I*xi*rho), (xi, -oo, oo))\n",
    "\n",
    "# Trin 4\n",
    "# Komplette Funktion\n",
    "def f_complete(x, y, phi):\n",
    "    return integrate(h(x*cos(phi) + y*sin(phi), phi, xi), (phi, 0, pi))\n"
   ]
  },
  {
   "cell_type": "code",
   "execution_count": null,
   "metadata": {},
   "outputs": [],
   "source": []
  }
 ],
 "metadata": {
  "kernelspec": {
   "display_name": "matprog",
   "language": "python",
   "name": "python3"
  },
  "language_info": {
   "codemirror_mode": {
    "name": "ipython",
    "version": 3
   },
   "file_extension": ".py",
   "mimetype": "text/x-python",
   "name": "python",
   "nbconvert_exporter": "python",
   "pygments_lexer": "ipython3",
   "version": "3.11.5"
  }
 },
 "nbformat": 4,
 "nbformat_minor": 2
}
