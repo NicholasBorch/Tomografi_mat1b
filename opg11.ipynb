{
 "cells": [
  {
   "cell_type": "markdown",
   "metadata": {},
   "source": [
    "## Pakker"
   ]
  },
  {
   "cell_type": "code",
   "execution_count": 5,
   "metadata": {},
   "outputs": [],
   "source": [
    "from sympy import *\n",
    "from spb import *\n",
    "from dtumathtools import *\n",
    "import matplotlib.pyplot as plt\n",
    "init_printing()"
   ]
  },
  {
   "cell_type": "code",
   "execution_count": 6,
   "metadata": {},
   "outputs": [
    {
     "name": "stdout",
     "output_type": "stream",
     "text": [
      "-1/2 -1/2 1/2 1/2\n",
      "1/2 1/2 -1/2 -1/2\n"
     ]
    }
   ],
   "source": [
    "# Define symbolic variables\n",
    "rho, t = symbols('rho t')\n",
    "\n",
    "# Constants\n",
    "phi = pi/3 \n",
    "\n",
    "# Define parametric equations for the line\n",
    "x_t = rho * cos(phi) - t * sin(phi)\n",
    "y_t = rho * sin(phi) + t * cos(phi)\n",
    "\n",
    "# Square boundaries\n",
    "x_bound = 1/2\n",
    "y_bound = 1/2\n",
    "\n",
    "\n",
    "t_x_expressions = [(rho+1)/sqrt(3), (rho-1)/sqrt(3)]\n",
    "t_y_expressions = [1-sqrt(3)*rho, -1-sqrt(3)*rho]\n",
    "\n",
    "rho_extremes = [-(1+sqrt(3))/4, (1+sqrt(3))/4]\n",
    "\n",
    "x1 = x_t.subs(t, t_x_expressions[0]).subs(rho, rho_extremes[0])\n",
    "x2 = x_t.subs(t, t_x_expressions[0]).subs(rho, rho_extremes[1])\n",
    "x3 = x_t.subs(t, t_x_expressions[1]).subs(rho, rho_extremes[0])\n",
    "x4 = x_t.subs(t, t_x_expressions[1]).subs(rho, rho_extremes[1])\n",
    "\n",
    "y1 = y_t.subs(t, t_y_expressions[0]).subs(rho, rho_extremes[0])\n",
    "y2 = y_t.subs(t, t_y_expressions[0]).subs(rho, rho_extremes[1])\n",
    "y3 = y_t.subs(t, t_y_expressions[1]).subs(rho, rho_extremes[0])\n",
    "y4 = y_t.subs(t, t_y_expressions[1]).subs(rho, rho_extremes[1])\n",
    "\n",
    "print(x1, x2, x3, x4)\n",
    "print(y1, y2, y3, y4)\n"
   ]
  },
  {
   "cell_type": "code",
   "execution_count": null,
   "metadata": {},
   "outputs": [],
   "source": [
    "t_length = t_max_expr - t_min_expr\n",
    "\n",
    "display(simplify(t_length))\n",
    "print(simplify(t_length))"
   ]
  },
  {
   "cell_type": "code",
   "execution_count": null,
   "metadata": {},
   "outputs": [
    {
     "data": {
      "text/latex": [
       "$\\displaystyle \\begin{cases} \\int\\limits_{\\frac{\\sqrt{3} \\left(\\rho - 1\\right)}{3}}^{\\frac{\\sqrt{3} \\left(\\rho + 1\\right)}{3}} \\begin{cases} 1 & \\text{for}\\: \\left|{\\frac{\\rho}{2} - \\frac{\\sqrt{3} t}{2}}\\right| \\leq 0.5 \\wedge \\left|{\\frac{\\sqrt{3} \\rho}{2} + \\frac{t}{2}}\\right| \\leq 0.5 \\\\0 & \\text{otherwise} \\end{cases}\\, dt & \\text{for}\\: \\sqrt{3} \\left(\\rho - 1\\right) < \\sqrt{3} \\left(\\rho + 1\\right) \\\\- \\int\\limits_{\\frac{\\sqrt{3} \\left(\\rho + 1\\right)}{3}}^{\\frac{\\sqrt{3} \\left(\\rho - 1\\right)}{3}} \\begin{cases} 1 & \\text{for}\\: \\left|{\\frac{\\rho}{2} - \\frac{\\sqrt{3} t}{2}}\\right| \\leq 0.5 \\wedge \\left|{\\frac{\\sqrt{3} \\rho}{2} + \\frac{t}{2}}\\right| \\leq 0.5 \\\\0 & \\text{otherwise} \\end{cases}\\, dt & \\text{otherwise} \\end{cases}$"
      ],
      "text/plain": [
       "⎧√3⋅(ρ + 1)                                                                   \n",
       "⎪──────────                                                                   \n",
       "⎪    3                                                                        \n",
       "⎪    ⌠                                                                        \n",
       "⎪    ⎮      ⎧       │ρ   √3⋅t│         │√3⋅ρ   t│                             \n",
       "⎪    ⎮      ⎪1  for │─ - ────│ ≤ 0.5 ∧ │──── + ─│ ≤ 0.5                       \n",
       "⎪    ⎮      ⎨       │2    2  │         │ 2     2│       dt   for √3⋅(ρ - 1) < \n",
       "⎪    ⎮      ⎪                                                                 \n",
       "⎪    ⎮      ⎩0                 otherwise                                      \n",
       "⎪    ⌡                                                                        \n",
       "⎪√3⋅(ρ - 1)                                                                   \n",
       "⎪──────────                                                                   \n",
       "⎪    3                                                                        \n",
       "⎨                                                                             \n",
       "⎪ √3⋅(ρ - 1)                                                                  \n",
       "⎪ ──────────                                                                  \n",
       "⎪     3                                                                       \n",
       "⎪     ⌠                                                                       \n",
       "⎪     ⎮      ⎧       │ρ   √3⋅t│         │√3⋅ρ   t│                            \n",
       "⎪     ⎮      ⎪1  for │─ - ────│ ≤ 0.5 ∧ │──── + ─│ ≤ 0.5                      \n",
       "⎪-    ⎮      ⎨       │2    2  │         │ 2     2│       dt           otherwis\n",
       "⎪     ⎮      ⎪                                                                \n",
       "⎪     ⎮      ⎩0                 otherwise                                     \n",
       "⎪     ⌡                                                                       \n",
       "⎪ √3⋅(ρ + 1)                                                                  \n",
       "⎪ ──────────                                                                  \n",
       "⎩     3                                                                       \n",
       "\n",
       "          \n",
       "          \n",
       "          \n",
       "          \n",
       "          \n",
       "          \n",
       "√3⋅(ρ + 1)\n",
       "          \n",
       "          \n",
       "          \n",
       "          \n",
       "          \n",
       "          \n",
       "          \n",
       "          \n",
       "          \n",
       "          \n",
       "          \n",
       "          \n",
       "          \n",
       "e         \n",
       "          \n",
       "          \n",
       "          \n",
       "          \n",
       "          \n",
       "          "
      ]
     },
     "execution_count": 3,
     "metadata": {},
     "output_type": "execute_result"
    }
   ],
   "source": [
    "t, rho = symbols('t rho')\n",
    "phi = pi/3\n",
    "\n",
    "# parameterization of the line\n",
    "def r(t, phi, rho):\n",
    "    x = rho*cos(phi) - t * sin(phi)\n",
    "    y = rho*sin(phi) + t * cos(phi)\n",
    "    return x, y\n",
    "\n",
    "x, y = r(t, phi, rho)\n",
    "\n",
    "# conditions\n",
    "rect_x = Piecewise(\n",
    "    (1, abs(x) <= 1/2),\n",
    "    (0, abs(x) > 1/2)\n",
    ")\n",
    "\n",
    "rect_y = Piecewise(\n",
    "    (1, abs(y) <= 1/2),\n",
    "    (0, abs(y) > 1/2)\n",
    ")\n",
    "\n",
    "# Define function\n",
    "f = rect_x * rect_y\n",
    "\n",
    "\n",
    "\n",
    "# Integral\n",
    "integrate(f, (t, sqrt(3)*(rho - 1)/3, sqrt(3)*(rho + 1)/3))"
   ]
  }
 ],
 "metadata": {
  "kernelspec": {
   "display_name": "Python 3",
   "language": "python",
   "name": "python3"
  },
  "language_info": {
   "codemirror_mode": {
    "name": "ipython",
    "version": 3
   },
   "file_extension": ".py",
   "mimetype": "text/x-python",
   "name": "python",
   "nbconvert_exporter": "python",
   "pygments_lexer": "ipython3",
   "version": "3.11.5"
  }
 },
 "nbformat": 4,
 "nbformat_minor": 2
}
